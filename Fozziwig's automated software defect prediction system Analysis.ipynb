{
 "cells": [
  {
   "cell_type": "markdown",
   "metadata": {},
   "source": [
    "# Fozziwig's automated software defect prediction system Analysis"
   ]
  },
  {
   "cell_type": "markdown",
   "metadata": {},
   "source": [
    "### About the data\n",
    "\n",
    "The data that you have been given contains the static code metrics for each of the functions which comprise a software system. This system was developed by Fozziwig's Software Developers several\n",
    "years ago. \n",
    "As well as the metrics for each function, it has also been recorded whether or not a fault was experienced in each function. \n",
    "\n",
    "This data came from the software testers who examined the system before it was publicly released.\n",
    "\n",
    "### Data contains\n",
    "1) Training data set (trainingSet.csv) \n",
    "\n",
    "2) Testing data set(testingSet.csv)\n",
    "\n",
    "Each data set contains 13 features (each one a software metric). Class labels are\n",
    "shown in the last column of each file: a value of `+1' means `defective' (the software module contained\n",
    "a defect (fault)) while a value of `-1' means `non-defective'. "
   ]
  },
  {
   "cell_type": "markdown",
   "metadata": {},
   "source": [
    "### Objective\n",
    "\n",
    "Given Fozziwig's automated software defect prediction system data,determine whether the software system cost effective or not"
   ]
  },
  {
   "cell_type": "markdown",
   "metadata": {},
   "source": [
    "# Task 1: Data pre-processing and data exploration"
   ]
  },
  {
   "cell_type": "markdown",
   "metadata": {},
   "source": [
    "### a) Use Pandas to load both trainingSet.csv and testingSet.csv"
   ]
  },
  {
   "cell_type": "code",
   "execution_count": 136,
   "metadata": {},
   "outputs": [],
   "source": [
    "import numpy as np\n",
    "import pandas as pd\n",
    "import matplotlib.pyplot as plt\n",
    "import seaborn as sns\n",
    "\n",
    "\n",
    "   \n",
    "trainingSet = pd.read_csv('./trainingSet.csv')\n",
    "testingSet = pd.read_csv('./testingSet.csv')"
   ]
  },
  {
   "cell_type": "code",
   "execution_count": 137,
   "metadata": {},
   "outputs": [
    {
     "data": {
      "text/html": [
       "<div>\n",
       "<style scoped>\n",
       "    .dataframe tbody tr th:only-of-type {\n",
       "        vertical-align: middle;\n",
       "    }\n",
       "\n",
       "    .dataframe tbody tr th {\n",
       "        vertical-align: top;\n",
       "    }\n",
       "\n",
       "    .dataframe thead th {\n",
       "        text-align: right;\n",
       "    }\n",
       "</style>\n",
       "<table border=\"1\" class=\"dataframe\">\n",
       "  <thead>\n",
       "    <tr style=\"text-align: right;\">\n",
       "      <th></th>\n",
       "      <th>LOC_BLANK</th>\n",
       "      <th>BRANCH_COUNT</th>\n",
       "      <th>LOC_CODE_AND_COMMENT</th>\n",
       "      <th>LOC_COMMENTS</th>\n",
       "      <th>CYCLOMATIC_COMPLEXITY</th>\n",
       "      <th>DESIGN_COMPLEXITY</th>\n",
       "      <th>ESSENTIAL_COMPLEXITY</th>\n",
       "      <th>LOC_EXECUTABLE</th>\n",
       "      <th>NUM_OPERANDS</th>\n",
       "      <th>NUM_OPERATORS</th>\n",
       "      <th>NUM_UNIQUE_OPERANDS</th>\n",
       "      <th>NUM_UNIQUE_OPERATORS</th>\n",
       "      <th>LOC_TOTAL</th>\n",
       "      <th>DEFECTIVE</th>\n",
       "    </tr>\n",
       "  </thead>\n",
       "  <tbody>\n",
       "    <tr>\n",
       "      <th>0</th>\n",
       "      <td>0</td>\n",
       "      <td>1</td>\n",
       "      <td>0</td>\n",
       "      <td>0</td>\n",
       "      <td>1</td>\n",
       "      <td>1</td>\n",
       "      <td>1</td>\n",
       "      <td>7</td>\n",
       "      <td>12</td>\n",
       "      <td>19</td>\n",
       "      <td>7</td>\n",
       "      <td>4</td>\n",
       "      <td>9</td>\n",
       "      <td>1</td>\n",
       "    </tr>\n",
       "    <tr>\n",
       "      <th>1</th>\n",
       "      <td>2</td>\n",
       "      <td>1</td>\n",
       "      <td>0</td>\n",
       "      <td>0</td>\n",
       "      <td>1</td>\n",
       "      <td>1</td>\n",
       "      <td>1</td>\n",
       "      <td>6</td>\n",
       "      <td>8</td>\n",
       "      <td>8</td>\n",
       "      <td>6</td>\n",
       "      <td>4</td>\n",
       "      <td>10</td>\n",
       "      <td>-1</td>\n",
       "    </tr>\n",
       "    <tr>\n",
       "      <th>2</th>\n",
       "      <td>3</td>\n",
       "      <td>9</td>\n",
       "      <td>0</td>\n",
       "      <td>3</td>\n",
       "      <td>1</td>\n",
       "      <td>1</td>\n",
       "      <td>1</td>\n",
       "      <td>24</td>\n",
       "      <td>22</td>\n",
       "      <td>33</td>\n",
       "      <td>13</td>\n",
       "      <td>11</td>\n",
       "      <td>33</td>\n",
       "      <td>1</td>\n",
       "    </tr>\n",
       "    <tr>\n",
       "      <th>3</th>\n",
       "      <td>0</td>\n",
       "      <td>1</td>\n",
       "      <td>0</td>\n",
       "      <td>0</td>\n",
       "      <td>1</td>\n",
       "      <td>1</td>\n",
       "      <td>1</td>\n",
       "      <td>1</td>\n",
       "      <td>1</td>\n",
       "      <td>2</td>\n",
       "      <td>1</td>\n",
       "      <td>2</td>\n",
       "      <td>4</td>\n",
       "      <td>-1</td>\n",
       "    </tr>\n",
       "    <tr>\n",
       "      <th>4</th>\n",
       "      <td>0</td>\n",
       "      <td>1</td>\n",
       "      <td>0</td>\n",
       "      <td>0</td>\n",
       "      <td>1</td>\n",
       "      <td>1</td>\n",
       "      <td>1</td>\n",
       "      <td>7</td>\n",
       "      <td>10</td>\n",
       "      <td>15</td>\n",
       "      <td>8</td>\n",
       "      <td>8</td>\n",
       "      <td>12</td>\n",
       "      <td>-1</td>\n",
       "    </tr>\n",
       "  </tbody>\n",
       "</table>\n",
       "</div>"
      ],
      "text/plain": [
       "   LOC_BLANK  BRANCH_COUNT  LOC_CODE_AND_COMMENT  LOC_COMMENTS  \\\n",
       "0          0             1                     0             0   \n",
       "1          2             1                     0             0   \n",
       "2          3             9                     0             3   \n",
       "3          0             1                     0             0   \n",
       "4          0             1                     0             0   \n",
       "\n",
       "   CYCLOMATIC_COMPLEXITY  DESIGN_COMPLEXITY  ESSENTIAL_COMPLEXITY  \\\n",
       "0                      1                  1                     1   \n",
       "1                      1                  1                     1   \n",
       "2                      1                  1                     1   \n",
       "3                      1                  1                     1   \n",
       "4                      1                  1                     1   \n",
       "\n",
       "   LOC_EXECUTABLE  NUM_OPERANDS  NUM_OPERATORS  NUM_UNIQUE_OPERANDS  \\\n",
       "0               7            12             19                    7   \n",
       "1               6             8              8                    6   \n",
       "2              24            22             33                   13   \n",
       "3               1             1              2                    1   \n",
       "4               7            10             15                    8   \n",
       "\n",
       "   NUM_UNIQUE_OPERATORS  LOC_TOTAL  DEFECTIVE  \n",
       "0                     4          9          1  \n",
       "1                     4         10         -1  \n",
       "2                    11         33          1  \n",
       "3                     2          4         -1  \n",
       "4                     8         12         -1  "
      ]
     },
     "execution_count": 137,
     "metadata": {},
     "output_type": "execute_result"
    }
   ],
   "source": [
    "trainingSet.head()"
   ]
  },
  {
   "cell_type": "code",
   "execution_count": 138,
   "metadata": {},
   "outputs": [
    {
     "data": {
      "text/html": [
       "<div>\n",
       "<style scoped>\n",
       "    .dataframe tbody tr th:only-of-type {\n",
       "        vertical-align: middle;\n",
       "    }\n",
       "\n",
       "    .dataframe tbody tr th {\n",
       "        vertical-align: top;\n",
       "    }\n",
       "\n",
       "    .dataframe thead th {\n",
       "        text-align: right;\n",
       "    }\n",
       "</style>\n",
       "<table border=\"1\" class=\"dataframe\">\n",
       "  <thead>\n",
       "    <tr style=\"text-align: right;\">\n",
       "      <th></th>\n",
       "      <th>LOC_BLANK</th>\n",
       "      <th>BRANCH_COUNT</th>\n",
       "      <th>LOC_CODE_AND_COMMENT</th>\n",
       "      <th>LOC_COMMENTS</th>\n",
       "      <th>CYCLOMATIC_COMPLEXITY</th>\n",
       "      <th>DESIGN_COMPLEXITY</th>\n",
       "      <th>ESSENTIAL_COMPLEXITY</th>\n",
       "      <th>LOC_EXECUTABLE</th>\n",
       "      <th>NUM_OPERANDS</th>\n",
       "      <th>NUM_OPERATORS</th>\n",
       "      <th>NUM_UNIQUE_OPERANDS</th>\n",
       "      <th>NUM_UNIQUE_OPERATORS</th>\n",
       "      <th>LOC_TOTAL</th>\n",
       "      <th>DEFECTIVE</th>\n",
       "    </tr>\n",
       "  </thead>\n",
       "  <tbody>\n",
       "    <tr>\n",
       "      <th>count</th>\n",
       "      <td>364.000000</td>\n",
       "      <td>364.000000</td>\n",
       "      <td>364.000000</td>\n",
       "      <td>364.000000</td>\n",
       "      <td>364.000000</td>\n",
       "      <td>364.000000</td>\n",
       "      <td>364.000000</td>\n",
       "      <td>364.000000</td>\n",
       "      <td>364.000000</td>\n",
       "      <td>364.000000</td>\n",
       "      <td>364.000000</td>\n",
       "      <td>364.000000</td>\n",
       "      <td>364.000000</td>\n",
       "      <td>364.000000</td>\n",
       "    </tr>\n",
       "    <tr>\n",
       "      <th>mean</th>\n",
       "      <td>3.997253</td>\n",
       "      <td>9.370879</td>\n",
       "      <td>0.189560</td>\n",
       "      <td>2.483516</td>\n",
       "      <td>5.170330</td>\n",
       "      <td>4.579670</td>\n",
       "      <td>2.667582</td>\n",
       "      <td>31.129121</td>\n",
       "      <td>40.870879</td>\n",
       "      <td>66.310440</td>\n",
       "      <td>18.928571</td>\n",
       "      <td>12.175824</td>\n",
       "      <td>40.892857</td>\n",
       "      <td>0.000000</td>\n",
       "    </tr>\n",
       "    <tr>\n",
       "      <th>std</th>\n",
       "      <td>5.409154</td>\n",
       "      <td>11.363386</td>\n",
       "      <td>0.723323</td>\n",
       "      <td>5.600300</td>\n",
       "      <td>5.657692</td>\n",
       "      <td>5.029579</td>\n",
       "      <td>3.270529</td>\n",
       "      <td>33.411819</td>\n",
       "      <td>43.968024</td>\n",
       "      <td>70.111676</td>\n",
       "      <td>15.715457</td>\n",
       "      <td>6.252437</td>\n",
       "      <td>41.713731</td>\n",
       "      <td>1.001376</td>\n",
       "    </tr>\n",
       "    <tr>\n",
       "      <th>min</th>\n",
       "      <td>0.000000</td>\n",
       "      <td>1.000000</td>\n",
       "      <td>0.000000</td>\n",
       "      <td>0.000000</td>\n",
       "      <td>1.000000</td>\n",
       "      <td>1.000000</td>\n",
       "      <td>1.000000</td>\n",
       "      <td>1.000000</td>\n",
       "      <td>1.000000</td>\n",
       "      <td>1.000000</td>\n",
       "      <td>1.000000</td>\n",
       "      <td>1.000000</td>\n",
       "      <td>3.000000</td>\n",
       "      <td>-1.000000</td>\n",
       "    </tr>\n",
       "    <tr>\n",
       "      <th>25%</th>\n",
       "      <td>1.000000</td>\n",
       "      <td>1.000000</td>\n",
       "      <td>0.000000</td>\n",
       "      <td>0.000000</td>\n",
       "      <td>1.000000</td>\n",
       "      <td>1.000000</td>\n",
       "      <td>1.000000</td>\n",
       "      <td>8.000000</td>\n",
       "      <td>10.000000</td>\n",
       "      <td>18.000000</td>\n",
       "      <td>7.000000</td>\n",
       "      <td>8.000000</td>\n",
       "      <td>13.000000</td>\n",
       "      <td>-1.000000</td>\n",
       "    </tr>\n",
       "    <tr>\n",
       "      <th>50%</th>\n",
       "      <td>2.000000</td>\n",
       "      <td>5.000000</td>\n",
       "      <td>0.000000</td>\n",
       "      <td>0.000000</td>\n",
       "      <td>3.000000</td>\n",
       "      <td>3.000000</td>\n",
       "      <td>1.000000</td>\n",
       "      <td>19.000000</td>\n",
       "      <td>26.000000</td>\n",
       "      <td>40.000000</td>\n",
       "      <td>15.000000</td>\n",
       "      <td>11.000000</td>\n",
       "      <td>25.000000</td>\n",
       "      <td>0.000000</td>\n",
       "    </tr>\n",
       "    <tr>\n",
       "      <th>75%</th>\n",
       "      <td>5.000000</td>\n",
       "      <td>13.000000</td>\n",
       "      <td>0.000000</td>\n",
       "      <td>2.000000</td>\n",
       "      <td>7.000000</td>\n",
       "      <td>6.000000</td>\n",
       "      <td>3.000000</td>\n",
       "      <td>45.000000</td>\n",
       "      <td>56.000000</td>\n",
       "      <td>99.000000</td>\n",
       "      <td>25.000000</td>\n",
       "      <td>16.000000</td>\n",
       "      <td>56.000000</td>\n",
       "      <td>1.000000</td>\n",
       "    </tr>\n",
       "    <tr>\n",
       "      <th>max</th>\n",
       "      <td>35.000000</td>\n",
       "      <td>89.000000</td>\n",
       "      <td>6.000000</td>\n",
       "      <td>44.000000</td>\n",
       "      <td>45.000000</td>\n",
       "      <td>45.000000</td>\n",
       "      <td>22.000000</td>\n",
       "      <td>262.000000</td>\n",
       "      <td>285.000000</td>\n",
       "      <td>509.000000</td>\n",
       "      <td>84.000000</td>\n",
       "      <td>37.000000</td>\n",
       "      <td>288.000000</td>\n",
       "      <td>1.000000</td>\n",
       "    </tr>\n",
       "  </tbody>\n",
       "</table>\n",
       "</div>"
      ],
      "text/plain": [
       "        LOC_BLANK  BRANCH_COUNT  LOC_CODE_AND_COMMENT  LOC_COMMENTS  \\\n",
       "count  364.000000    364.000000            364.000000    364.000000   \n",
       "mean     3.997253      9.370879              0.189560      2.483516   \n",
       "std      5.409154     11.363386              0.723323      5.600300   \n",
       "min      0.000000      1.000000              0.000000      0.000000   \n",
       "25%      1.000000      1.000000              0.000000      0.000000   \n",
       "50%      2.000000      5.000000              0.000000      0.000000   \n",
       "75%      5.000000     13.000000              0.000000      2.000000   \n",
       "max     35.000000     89.000000              6.000000     44.000000   \n",
       "\n",
       "       CYCLOMATIC_COMPLEXITY  DESIGN_COMPLEXITY  ESSENTIAL_COMPLEXITY  \\\n",
       "count             364.000000         364.000000            364.000000   \n",
       "mean                5.170330           4.579670              2.667582   \n",
       "std                 5.657692           5.029579              3.270529   \n",
       "min                 1.000000           1.000000              1.000000   \n",
       "25%                 1.000000           1.000000              1.000000   \n",
       "50%                 3.000000           3.000000              1.000000   \n",
       "75%                 7.000000           6.000000              3.000000   \n",
       "max                45.000000          45.000000             22.000000   \n",
       "\n",
       "       LOC_EXECUTABLE  NUM_OPERANDS  NUM_OPERATORS  NUM_UNIQUE_OPERANDS  \\\n",
       "count      364.000000    364.000000     364.000000           364.000000   \n",
       "mean        31.129121     40.870879      66.310440            18.928571   \n",
       "std         33.411819     43.968024      70.111676            15.715457   \n",
       "min          1.000000      1.000000       1.000000             1.000000   \n",
       "25%          8.000000     10.000000      18.000000             7.000000   \n",
       "50%         19.000000     26.000000      40.000000            15.000000   \n",
       "75%         45.000000     56.000000      99.000000            25.000000   \n",
       "max        262.000000    285.000000     509.000000            84.000000   \n",
       "\n",
       "       NUM_UNIQUE_OPERATORS   LOC_TOTAL   DEFECTIVE  \n",
       "count            364.000000  364.000000  364.000000  \n",
       "mean              12.175824   40.892857    0.000000  \n",
       "std                6.252437   41.713731    1.001376  \n",
       "min                1.000000    3.000000   -1.000000  \n",
       "25%                8.000000   13.000000   -1.000000  \n",
       "50%               11.000000   25.000000    0.000000  \n",
       "75%               16.000000   56.000000    1.000000  \n",
       "max               37.000000  288.000000    1.000000  "
      ]
     },
     "execution_count": 138,
     "metadata": {},
     "output_type": "execute_result"
    }
   ],
   "source": [
    "trainingSet.describe(include=\"all\")"
   ]
  },
  {
   "cell_type": "code",
   "execution_count": 139,
   "metadata": {},
   "outputs": [
    {
     "name": "stdout",
     "output_type": "stream",
     "text": [
      "Index(['LOC_BLANK', 'BRANCH_COUNT', 'LOC_CODE_AND_COMMENT', 'LOC_COMMENTS',\n",
      "       'CYCLOMATIC_COMPLEXITY', 'DESIGN_COMPLEXITY', 'ESSENTIAL_COMPLEXITY',\n",
      "       'LOC_EXECUTABLE', 'NUM_OPERANDS', 'NUM_OPERATORS',\n",
      "       'NUM_UNIQUE_OPERANDS', 'NUM_UNIQUE_OPERATORS', 'LOC_TOTAL',\n",
      "       'DEFECTIVE'],\n",
      "      dtype='object')\n"
     ]
    }
   ],
   "source": [
    "#get a list of the features within the dataset\n",
    "print(trainingSet.columns)"
   ]
  },
  {
   "cell_type": "code",
   "execution_count": 140,
   "metadata": {},
   "outputs": [
    {
     "data": {
      "text/html": [
       "<div>\n",
       "<style scoped>\n",
       "    .dataframe tbody tr th:only-of-type {\n",
       "        vertical-align: middle;\n",
       "    }\n",
       "\n",
       "    .dataframe tbody tr th {\n",
       "        vertical-align: top;\n",
       "    }\n",
       "\n",
       "    .dataframe thead th {\n",
       "        text-align: right;\n",
       "    }\n",
       "</style>\n",
       "<table border=\"1\" class=\"dataframe\">\n",
       "  <thead>\n",
       "    <tr style=\"text-align: right;\">\n",
       "      <th></th>\n",
       "      <th>LOC_BLANK</th>\n",
       "      <th>BRANCH_COUNT</th>\n",
       "      <th>LOC_CODE_AND_COMMENT</th>\n",
       "      <th>LOC_COMMENTS</th>\n",
       "      <th>CYCLOMATIC_COMPLEXITY</th>\n",
       "      <th>DESIGN_COMPLEXITY</th>\n",
       "      <th>ESSENTIAL_COMPLEXITY</th>\n",
       "      <th>LOC_EXECUTABLE</th>\n",
       "      <th>NUM_OPERANDS</th>\n",
       "      <th>NUM_OPERATORS</th>\n",
       "      <th>NUM_UNIQUE_OPERANDS</th>\n",
       "      <th>NUM_UNIQUE_OPERATORS</th>\n",
       "      <th>LOC_TOTAL</th>\n",
       "      <th>DEFECTIVE</th>\n",
       "    </tr>\n",
       "  </thead>\n",
       "  <tbody>\n",
       "    <tr>\n",
       "      <th>28</th>\n",
       "      <td>0</td>\n",
       "      <td>5</td>\n",
       "      <td>0</td>\n",
       "      <td>0</td>\n",
       "      <td>3</td>\n",
       "      <td>2</td>\n",
       "      <td>1</td>\n",
       "      <td>1</td>\n",
       "      <td>4</td>\n",
       "      <td>11</td>\n",
       "      <td>3</td>\n",
       "      <td>9</td>\n",
       "      <td>3</td>\n",
       "      <td>-1</td>\n",
       "    </tr>\n",
       "    <tr>\n",
       "      <th>249</th>\n",
       "      <td>2</td>\n",
       "      <td>5</td>\n",
       "      <td>0</td>\n",
       "      <td>0</td>\n",
       "      <td>3</td>\n",
       "      <td>2</td>\n",
       "      <td>3</td>\n",
       "      <td>7</td>\n",
       "      <td>19</td>\n",
       "      <td>24</td>\n",
       "      <td>15</td>\n",
       "      <td>11</td>\n",
       "      <td>11</td>\n",
       "      <td>1</td>\n",
       "    </tr>\n",
       "    <tr>\n",
       "      <th>51</th>\n",
       "      <td>0</td>\n",
       "      <td>1</td>\n",
       "      <td>0</td>\n",
       "      <td>0</td>\n",
       "      <td>1</td>\n",
       "      <td>1</td>\n",
       "      <td>1</td>\n",
       "      <td>9</td>\n",
       "      <td>18</td>\n",
       "      <td>23</td>\n",
       "      <td>14</td>\n",
       "      <td>10</td>\n",
       "      <td>11</td>\n",
       "      <td>1</td>\n",
       "    </tr>\n",
       "    <tr>\n",
       "      <th>326</th>\n",
       "      <td>1</td>\n",
       "      <td>3</td>\n",
       "      <td>0</td>\n",
       "      <td>0</td>\n",
       "      <td>2</td>\n",
       "      <td>2</td>\n",
       "      <td>1</td>\n",
       "      <td>6</td>\n",
       "      <td>17</td>\n",
       "      <td>25</td>\n",
       "      <td>11</td>\n",
       "      <td>10</td>\n",
       "      <td>9</td>\n",
       "      <td>1</td>\n",
       "    </tr>\n",
       "    <tr>\n",
       "      <th>2</th>\n",
       "      <td>3</td>\n",
       "      <td>9</td>\n",
       "      <td>0</td>\n",
       "      <td>3</td>\n",
       "      <td>1</td>\n",
       "      <td>1</td>\n",
       "      <td>1</td>\n",
       "      <td>24</td>\n",
       "      <td>22</td>\n",
       "      <td>33</td>\n",
       "      <td>13</td>\n",
       "      <td>11</td>\n",
       "      <td>33</td>\n",
       "      <td>1</td>\n",
       "    </tr>\n",
       "  </tbody>\n",
       "</table>\n",
       "</div>"
      ],
      "text/plain": [
       "     LOC_BLANK  BRANCH_COUNT  LOC_CODE_AND_COMMENT  LOC_COMMENTS  \\\n",
       "28           0             5                     0             0   \n",
       "249          2             5                     0             0   \n",
       "51           0             1                     0             0   \n",
       "326          1             3                     0             0   \n",
       "2            3             9                     0             3   \n",
       "\n",
       "     CYCLOMATIC_COMPLEXITY  DESIGN_COMPLEXITY  ESSENTIAL_COMPLEXITY  \\\n",
       "28                       3                  2                     1   \n",
       "249                      3                  2                     3   \n",
       "51                       1                  1                     1   \n",
       "326                      2                  2                     1   \n",
       "2                        1                  1                     1   \n",
       "\n",
       "     LOC_EXECUTABLE  NUM_OPERANDS  NUM_OPERATORS  NUM_UNIQUE_OPERANDS  \\\n",
       "28                1             4             11                    3   \n",
       "249               7            19             24                   15   \n",
       "51                9            18             23                   14   \n",
       "326               6            17             25                   11   \n",
       "2                24            22             33                   13   \n",
       "\n",
       "     NUM_UNIQUE_OPERATORS  LOC_TOTAL  DEFECTIVE  \n",
       "28                      9          3         -1  \n",
       "249                    11         11          1  \n",
       "51                     10         11          1  \n",
       "326                    10          9          1  \n",
       "2                      11         33          1  "
      ]
     },
     "execution_count": 140,
     "metadata": {},
     "output_type": "execute_result"
    }
   ],
   "source": [
    "trainingSet.sample(5)"
   ]
  },
  {
   "cell_type": "code",
   "execution_count": 141,
   "metadata": {},
   "outputs": [
    {
     "name": "stdout",
     "output_type": "stream",
     "text": [
      "LOC_BLANK                0\n",
      "BRANCH_COUNT             0\n",
      "LOC_CODE_AND_COMMENT     0\n",
      "LOC_COMMENTS             0\n",
      "CYCLOMATIC_COMPLEXITY    0\n",
      "DESIGN_COMPLEXITY        0\n",
      "ESSENTIAL_COMPLEXITY     0\n",
      "LOC_EXECUTABLE           0\n",
      "NUM_OPERANDS             0\n",
      "NUM_OPERATORS            0\n",
      "NUM_UNIQUE_OPERANDS      0\n",
      "NUM_UNIQUE_OPERATORS     0\n",
      "LOC_TOTAL                0\n",
      "DEFECTIVE                0\n",
      "dtype: int64\n"
     ]
    }
   ],
   "source": [
    "#check for any other unusable values\n",
    "print(pd.isnull(trainingSet).sum())"
   ]
  },
  {
   "cell_type": "code",
   "execution_count": 142,
   "metadata": {},
   "outputs": [
    {
     "name": "stdout",
     "output_type": "stream",
     "text": [
      "<class 'pandas.core.frame.DataFrame'>\n",
      "RangeIndex: 364 entries, 0 to 363\n",
      "Data columns (total 14 columns):\n",
      "LOC_BLANK                364 non-null int64\n",
      "BRANCH_COUNT             364 non-null int64\n",
      "LOC_CODE_AND_COMMENT     364 non-null int64\n",
      "LOC_COMMENTS             364 non-null int64\n",
      "CYCLOMATIC_COMPLEXITY    364 non-null int64\n",
      "DESIGN_COMPLEXITY        364 non-null int64\n",
      "ESSENTIAL_COMPLEXITY     364 non-null int64\n",
      "LOC_EXECUTABLE           364 non-null int64\n",
      "NUM_OPERANDS             364 non-null int64\n",
      "NUM_OPERATORS            364 non-null int64\n",
      "NUM_UNIQUE_OPERANDS      364 non-null int64\n",
      "NUM_UNIQUE_OPERATORS     364 non-null int64\n",
      "LOC_TOTAL                364 non-null int64\n",
      "DEFECTIVE                364 non-null int64\n",
      "dtypes: int64(14)\n",
      "memory usage: 39.9 KB\n"
     ]
    }
   ],
   "source": [
    "trainingSet.info()"
   ]
  },
  {
   "cell_type": "markdown",
   "metadata": {},
   "source": [
    "### b) Find the number of patterns in each class for both loaded data sets using Python"
   ]
  },
  {
   "cell_type": "code",
   "execution_count": 143,
   "metadata": {},
   "outputs": [
    {
     "data": {
      "text/plain": [
       "array([ 1, -1], dtype=int64)"
      ]
     },
     "execution_count": 143,
     "metadata": {},
     "output_type": "execute_result"
    }
   ],
   "source": [
    "trainingSet.DEFECTIVE.unique()"
   ]
  },
  {
   "cell_type": "code",
   "execution_count": 144,
   "metadata": {},
   "outputs": [
    {
     "data": {
      "text/plain": [
       " 1    182\n",
       "-1    182\n",
       "Name: DEFECTIVE, dtype: int64"
      ]
     },
     "execution_count": 144,
     "metadata": {},
     "output_type": "execute_result"
    }
   ],
   "source": [
    "trainingSet.DEFECTIVE.value_counts()"
   ]
  },
  {
   "cell_type": "markdown",
   "metadata": {},
   "source": [
    "### c) Choose an attribute and generate a boxplot for the two classes in the training set"
   ]
  },
  {
   "cell_type": "code",
   "execution_count": 145,
   "metadata": {},
   "outputs": [
    {
     "data": {
      "image/png": "[encoded data removed]",
      "text/plain": [
       "<matplotlib.figure.Figure at 0x182ba8e09e8>"
      ]
     },
     "metadata": {},
     "output_type": "display_data"
    }
   ],
   "source": [
    "ax = sns.boxplot(x=\"DEFECTIVE\", y=\"LOC_BLANK\", data=trainingSet)"
   ]
  },
  {
   "cell_type": "markdown",
   "metadata": {},
   "source": [
    "### d) Show one scatter plot, that is, one feature against another feature. It is your choice to show which two features you want to use. You need to use the training set"
   ]
  },
  {
   "cell_type": "code",
   "execution_count": 146,
   "metadata": {},
   "outputs": [
    {
     "data": {
      "text/plain": [
       "<seaborn.axisgrid.FacetGrid at 0x182b92bc9e8>"
      ]
     },
     "execution_count": 146,
     "metadata": {},
     "output_type": "execute_result"
    },
    {
     "data": {
      "image/png": "[encoded data removed]",
      "text/plain": [
       "<matplotlib.figure.Figure at 0x182b936a4e0>"
      ]
     },
     "metadata": {},
     "output_type": "display_data"
    }
   ],
   "source": [
    "sns.FacetGrid(trainingSet, hue=\"DEFECTIVE\", size=5) \\\n",
    "   .map(plt.scatter, \"LOC_BLANK\", \"BRANCH_COUNT\") \\\n",
    "   .add_legend()"
   ]
  },
  {
   "cell_type": "code",
   "execution_count": 147,
   "metadata": {},
   "outputs": [
    {
     "data": {
      "image/png": "[encoded data removed]",
      "text/plain": [
       "<matplotlib.figure.Figure at 0x182ba5ca710>"
      ]
     },
     "metadata": {},
     "output_type": "display_data"
    }
   ],
   "source": [
    "\n",
    "#Using Pearson Correlation\n",
    "plt.figure(figsize=(12,10))\n",
    "cor = trainingSet.corr()\n",
    "sns.heatmap(cor, annot=True, cmap=plt.cm.Reds)\n",
    "plt.show()"
   ]
  },
  {
   "cell_type": "code",
   "execution_count": 148,
   "metadata": {},
   "outputs": [
    {
     "data": {
      "text/plain": [
       "DEFECTIVE    1.0\n",
       "Name: DEFECTIVE, dtype: float64"
      ]
     },
     "execution_count": 148,
     "metadata": {},
     "output_type": "execute_result"
    }
   ],
   "source": [
    "#Correlation with output variable\n",
    "cor_target = abs(cor[\"DEFECTIVE\"])\n",
    "#Selecting highly correlated features\n",
    "relevant_features = cor_target[cor_target>0.5]\n",
    "relevant_features"
   ]
  },
  {
   "cell_type": "markdown",
   "metadata": {},
   "source": [
    "### e) Divide the original training set into a smaller training set (II) and a validation set. In this task, you need to use 55% of total training data points as the validation set"
   ]
  },
  {
   "cell_type": "code",
   "execution_count": 149,
   "metadata": {},
   "outputs": [],
   "source": [
    "from sklearn.model_selection import train_test_split\n",
    "\n",
    "y = trainingSet.DEFECTIVE # define the target variable (dependent variable) as y\n",
    "X_train, X_valid, y_train, y_valid = train_test_split(trainingSet, y, test_size=0.55, random_state=0)"
   ]
  },
  {
   "cell_type": "code",
   "execution_count": 150,
   "metadata": {},
   "outputs": [
    {
     "data": {
      "text/plain": [
       "(163, 14)"
      ]
     },
     "execution_count": 150,
     "metadata": {},
     "output_type": "execute_result"
    }
   ],
   "source": [
    "X_train.shape"
   ]
  },
  {
   "cell_type": "code",
   "execution_count": 151,
   "metadata": {},
   "outputs": [
    {
     "data": {
      "text/plain": [
       "(201, 14)"
      ]
     },
     "execution_count": 151,
     "metadata": {},
     "output_type": "execute_result"
    }
   ],
   "source": [
    "X_valid.shape"
   ]
  },
  {
   "cell_type": "markdown",
   "metadata": {},
   "source": [
    "# Task 2: Do a principal component analysis \n",
    "\n",
    "### a) Perform a PCA analysis on the original training data set."
   ]
  },
  {
   "cell_type": "markdown",
   "metadata": {},
   "source": [
    "PCA is effected by scale so we need to scale the features in our data before applying PCA. \n",
    "\n",
    "Using StandardScaler to help us standardize the dataset’s features onto unit scale (mean = 0 and variance = 1) which is a requirement for the optimal performance of many machine learning algorithms."
   ]
  },
  {
   "cell_type": "code",
   "execution_count": 152,
   "metadata": {},
   "outputs": [
    {
     "name": "stderr",
     "output_type": "stream",
     "text": [
      "C:\\Users\\naveen\\Anaconda3\\lib\\site-packages\\sklearn\\preprocessing\\data.py:625: DataConversionWarning: Data with input dtype int64 were all converted to float64 by StandardScaler.\n",
      "  return self.partial_fit(X, y)\n",
      "C:\\Users\\naveen\\Anaconda3\\lib\\site-packages\\ipykernel_launcher.py:9: DataConversionWarning: Data with input dtype int64 were all converted to float64 by StandardScaler.\n",
      "  if __name__ == '__main__':\n"
     ]
    },
    {
     "data": {
      "text/html": [
       "<div>\n",
       "<style scoped>\n",
       "    .dataframe tbody tr th:only-of-type {\n",
       "        vertical-align: middle;\n",
       "    }\n",
       "\n",
       "    .dataframe tbody tr th {\n",
       "        vertical-align: top;\n",
       "    }\n",
       "\n",
       "    .dataframe thead th {\n",
       "        text-align: right;\n",
       "    }\n",
       "</style>\n",
       "<table border=\"1\" class=\"dataframe\">\n",
       "  <thead>\n",
       "    <tr style=\"text-align: right;\">\n",
       "      <th></th>\n",
       "      <th>PC1</th>\n",
       "      <th>PC2</th>\n",
       "      <th>DEFECTIVE</th>\n",
       "    </tr>\n",
       "  </thead>\n",
       "  <tbody>\n",
       "    <tr>\n",
       "      <th>0</th>\n",
       "      <td>-2.545231</td>\n",
       "      <td>0.023622</td>\n",
       "      <td>1</td>\n",
       "    </tr>\n",
       "    <tr>\n",
       "      <th>1</th>\n",
       "      <td>-2.546383</td>\n",
       "      <td>0.138904</td>\n",
       "      <td>-1</td>\n",
       "    </tr>\n",
       "    <tr>\n",
       "      <th>2</th>\n",
       "      <td>-1.197935</td>\n",
       "      <td>0.250131</td>\n",
       "      <td>1</td>\n",
       "    </tr>\n",
       "    <tr>\n",
       "      <th>3</th>\n",
       "      <td>-2.989879</td>\n",
       "      <td>0.083059</td>\n",
       "      <td>-1</td>\n",
       "    </tr>\n",
       "    <tr>\n",
       "      <th>4</th>\n",
       "      <td>-2.368161</td>\n",
       "      <td>-0.050425</td>\n",
       "      <td>-1</td>\n",
       "    </tr>\n",
       "  </tbody>\n",
       "</table>\n",
       "</div>"
      ],
      "text/plain": [
       "        PC1       PC2  DEFECTIVE\n",
       "0 -2.545231  0.023622          1\n",
       "1 -2.546383  0.138904         -1\n",
       "2 -1.197935  0.250131          1\n",
       "3 -2.989879  0.083059         -1\n",
       "4 -2.368161 -0.050425         -1"
      ]
     },
     "execution_count": 152,
     "metadata": {},
     "output_type": "execute_result"
    }
   ],
   "source": [
    "from sklearn.preprocessing import StandardScaler\n",
    "scaler = StandardScaler()\n",
    "\n",
    "train_x = trainingSet.drop(columns=['DEFECTIVE'],axis=1)\n",
    "\n",
    "# Fit on training set only.\n",
    "scaler.fit(train_x)\n",
    "# Apply transform to both the training set\n",
    "train_x = scaler.transform(train_x)\n",
    "\n",
    "#PCA Execution\n",
    "pca = PCA(n_components=2)\n",
    "pct = pca.fit_transform(train_x)\n",
    "principal_trainingSet = pd.DataFrame(pct,columns=['PC1','PC2'])\n",
    "finaltrainingSet= pd.concat([principal_trainingSet,trainingSet[['DEFECTIVE']]],axis=1)\n",
    "finaltrainingSet.head()\n"
   ]
  },
  {
   "cell_type": "markdown",
   "metadata": {},
   "source": [
    "### b) Plot a scree plot to report variances captured by each principal component"
   ]
  },
  {
   "cell_type": "code",
   "execution_count": 153,
   "metadata": {},
   "outputs": [
    {
     "data": {
      "image/png": "[encoded data removed]",
      "text/plain": [
       "<matplotlib.figure.Figure at 0x182ba57b6d8>"
      ]
     },
     "metadata": {},
     "output_type": "display_data"
    }
   ],
   "source": [
    "plt.plot(np.cumsum(pca.explained_variance_ratio_))\n",
    "plt.xlabel('number of components')\n",
    "plt.ylabel('cumulative explained variance')\n",
    "plt.show()\n"
   ]
  },
  {
   "cell_type": "markdown",
   "metadata": {},
   "source": [
    "### c) Project the test set on the same PCA space produced by the original training dataset"
   ]
  },
  {
   "cell_type": "code",
   "execution_count": 154,
   "metadata": {},
   "outputs": [
    {
     "name": "stderr",
     "output_type": "stream",
     "text": [
      "C:\\Users\\naveen\\Anaconda3\\lib\\site-packages\\sklearn\\preprocessing\\data.py:625: DataConversionWarning: Data with input dtype int64 were all converted to float64 by StandardScaler.\n",
      "  return self.partial_fit(X, y)\n",
      "C:\\Users\\naveen\\Anaconda3\\lib\\site-packages\\ipykernel_launcher.py:9: DataConversionWarning: Data with input dtype int64 were all converted to float64 by StandardScaler.\n",
      "  if __name__ == '__main__':\n"
     ]
    },
    {
     "data": {
      "text/html": [
       "<div>\n",
       "<style scoped>\n",
       "    .dataframe tbody tr th:only-of-type {\n",
       "        vertical-align: middle;\n",
       "    }\n",
       "\n",
       "    .dataframe tbody tr th {\n",
       "        vertical-align: top;\n",
       "    }\n",
       "\n",
       "    .dataframe thead th {\n",
       "        text-align: right;\n",
       "    }\n",
       "</style>\n",
       "<table border=\"1\" class=\"dataframe\">\n",
       "  <thead>\n",
       "    <tr style=\"text-align: right;\">\n",
       "      <th></th>\n",
       "      <th>PC1_TESTING_SET</th>\n",
       "      <th>PC2_TESTING_SET</th>\n",
       "      <th>DEFECTIVE</th>\n",
       "    </tr>\n",
       "  </thead>\n",
       "  <tbody>\n",
       "    <tr>\n",
       "      <th>0</th>\n",
       "      <td>-0.662851</td>\n",
       "      <td>-0.130436</td>\n",
       "      <td>1</td>\n",
       "    </tr>\n",
       "    <tr>\n",
       "      <th>1</th>\n",
       "      <td>-1.996955</td>\n",
       "      <td>0.011570</td>\n",
       "      <td>-1</td>\n",
       "    </tr>\n",
       "    <tr>\n",
       "      <th>2</th>\n",
       "      <td>-0.346776</td>\n",
       "      <td>-0.286231</td>\n",
       "      <td>1</td>\n",
       "    </tr>\n",
       "    <tr>\n",
       "      <th>3</th>\n",
       "      <td>-2.612967</td>\n",
       "      <td>0.056211</td>\n",
       "      <td>-1</td>\n",
       "    </tr>\n",
       "    <tr>\n",
       "      <th>4</th>\n",
       "      <td>-2.392150</td>\n",
       "      <td>-0.007712</td>\n",
       "      <td>-1</td>\n",
       "    </tr>\n",
       "  </tbody>\n",
       "</table>\n",
       "</div>"
      ],
      "text/plain": [
       "   PC1_TESTING_SET  PC2_TESTING_SET  DEFECTIVE\n",
       "0        -0.662851        -0.130436          1\n",
       "1        -1.996955         0.011570         -1\n",
       "2        -0.346776        -0.286231          1\n",
       "3        -2.612967         0.056211         -1\n",
       "4        -2.392150        -0.007712         -1"
      ]
     },
     "execution_count": 154,
     "metadata": {},
     "output_type": "execute_result"
    }
   ],
   "source": [
    "#PCA Execution FOR testing set\n",
    "\n",
    "test_y = testingSet.drop(columns=['DEFECTIVE'],axis=1)\n",
    "\n",
    "# Fit on test set only.\n",
    "scaler.fit(test_y)\n",
    "# Apply transform to both the test set\n",
    "\n",
    "test_y = scaler.transform(test_y)\n",
    "pca = PCA(n_components=2)\n",
    "pct_testingSet = pca.fit_transform(test_y)\n",
    "principal_testingSet = pd.DataFrame(pct_testingSet,columns=['PC1_TESTING_SET','PC2_TESTING_SET'])\n",
    "finaltestingSet= pd.concat([principal_testingSet,testingSet[['DEFECTIVE']]],axis=1)\n",
    "finaltestingSet.head()"
   ]
  },
  {
   "cell_type": "markdown",
   "metadata": {},
   "source": [
    "### d) Plot two subplots in one figure: one for the training data in the PC1 and PC2 projection space and label the data in the picture according to its class; the other one for the test data in the same PCA space and label the data in the picture according to its class"
   ]
  },
  {
   "cell_type": "code",
   "execution_count": 155,
   "metadata": {},
   "outputs": [
    {
     "data": {
      "image/png": "[encoded data removed]",
      "text/plain": [
       "<matplotlib.figure.Figure at 0x182ba9d89b0>"
      ]
     },
     "metadata": {},
     "output_type": "display_data"
    }
   ],
   "source": [
    "fig, axs = plt.subplots(2)\n",
    "fig.suptitle('PCA Analysis for Both Training and Testing Data')\n",
    "axs[0].set_xlabel('Training Data PC 1', fontsize = 10)\n",
    "axs[0].set_ylabel('Training Data PC 2', fontsize = 10)\n",
    "targets = [1,-1]\n",
    "colors = ['navy', 'turquoise']\n",
    "for target, color in zip(targets,colors):\n",
    "    indicesToKeep = finaltrainingSet['DEFECTIVE'] == target\n",
    "    axs[0].scatter(finaltrainingSet.loc[indicesToKeep, 'PC1']\n",
    "               , finaltrainingSet.loc[indicesToKeep, 'PC2']\n",
    "               , c = color\n",
    "               , s = 50)\n",
    "axs[0].legend(targets)\n",
    "axs[0].grid()\n",
    "\n",
    "axs[1].set_xlabel('Testing Data PC 1', fontsize = 10)\n",
    "axs[1].set_ylabel('Testing Data PC 2', fontsize = 10)\n",
    "targets = [1,-1]\n",
    "colors = ['navy', 'turquoise']\n",
    "for target, color in zip(targets,colors):\n",
    "    indicesToKeep_testing = finaltestingSet['DEFECTIVE'] == target\n",
    "    axs[1].scatter(finaltestingSet.loc[indicesToKeep_testing, 'PC1_TESTING_SET']\n",
    "               , finaltestingSet.loc[indicesToKeep_testing, 'PC2_TESTING_SET']\n",
    "               , c = color\n",
    "               , s = 50)\n",
    "axs[1].legend(targets)\n",
    "axs[1].grid()\n",
    "fig.tight_layout(pad=2.0)"
   ]
  },
  {
   "cell_type": "markdown",
   "metadata": {},
   "source": [
    "# Task 3: Do a classification using the Naïve Bayes Classification model"
   ]
  },
  {
   "cell_type": "markdown",
   "metadata": {},
   "source": [
    "Train the model using the original training set and report the performance on the test set including\n",
    "accuracy rate. "
   ]
  },
  {
   "cell_type": "code",
   "execution_count": 156,
   "metadata": {},
   "outputs": [
    {
     "name": "stdout",
     "output_type": "stream",
     "text": [
      "Target on train data [-1 -1 -1 -1 -1 -1 -1  1 -1 -1 -1 -1 -1 -1 -1 -1 -1 -1 -1 -1 -1 -1  1 -1\n",
      " -1 -1 -1 -1 -1 -1 -1  1 -1 -1  1 -1 -1 -1 -1 -1 -1 -1 -1  1 -1  1 -1 -1\n",
      "  1 -1 -1 -1  1  1  1 -1 -1 -1 -1 -1 -1 -1 -1 -1  1 -1 -1 -1 -1 -1 -1 -1\n",
      "  1  1  1 -1 -1  1 -1  1 -1 -1 -1 -1 -1 -1 -1 -1  1 -1 -1 -1 -1 -1  1  1\n",
      " -1 -1  1  1  1 -1 -1  1 -1 -1 -1 -1 -1  1  1  1 -1 -1 -1 -1 -1  1 -1 -1\n",
      " -1  1  1 -1 -1 -1 -1 -1 -1 -1 -1  1 -1 -1 -1 -1 -1 -1 -1 -1  1 -1  1 -1\n",
      " -1  1 -1 -1 -1 -1 -1  1 -1  1 -1  1 -1  1 -1 -1 -1 -1 -1  1  1 -1 -1 -1\n",
      " -1 -1 -1 -1  1 -1 -1 -1 -1  1 -1 -1  1 -1 -1  1 -1 -1 -1  1 -1  1 -1 -1\n",
      " -1 -1  1 -1  1  1 -1 -1 -1 -1 -1  1 -1 -1 -1  1  1  1  1 -1 -1 -1  1  1\n",
      "  1  1 -1  1 -1 -1 -1  1  1 -1 -1 -1 -1  1 -1 -1 -1 -1 -1 -1 -1 -1 -1  1\n",
      "  1 -1 -1 -1 -1  1  1 -1 -1 -1 -1  1 -1 -1 -1 -1 -1 -1  1 -1 -1  1 -1 -1\n",
      "  1  1 -1 -1  1  1 -1 -1 -1 -1 -1  1 -1 -1  1 -1 -1 -1  1 -1 -1 -1 -1 -1\n",
      " -1  1 -1 -1 -1 -1 -1  1  1 -1  1 -1 -1 -1 -1  1 -1 -1 -1  1 -1 -1 -1 -1\n",
      " -1 -1 -1 -1 -1 -1 -1 -1  1 -1 -1 -1 -1 -1 -1 -1 -1  1 -1 -1 -1 -1 -1  1\n",
      " -1 -1 -1 -1 -1  1 -1  1  1 -1 -1 -1  1  1 -1 -1 -1 -1 -1 -1 -1  1 -1  1\n",
      "  1 -1 -1  1]\n",
      "accuracy_score on train dataset :  0.6126373626373627\n",
      "Target on test data [-1 -1 -1 -1 -1 -1 -1 -1 -1 -1  1 -1 -1 -1  1 -1 -1 -1 -1  1 -1 -1 -1  1\n",
      " -1 -1  1 -1 -1 -1 -1  1 -1  1 -1 -1 -1  1 -1  1 -1 -1 -1 -1 -1  1 -1 -1\n",
      " -1 -1 -1 -1 -1 -1  1 -1  1 -1 -1  1 -1 -1 -1 -1 -1 -1 -1 -1 -1 -1 -1 -1\n",
      " -1  1 -1  1 -1  1 -1 -1 -1 -1 -1 -1  1  1 -1  1 -1 -1 -1  1 -1 -1 -1 -1\n",
      " -1 -1 -1 -1  1 -1 -1 -1 -1  1 -1 -1 -1 -1 -1  1 -1  1 -1 -1 -1 -1 -1  1\n",
      "  1 -1 -1  1  1  1  1 -1 -1  1 -1  1 -1 -1 -1 -1]\n",
      "accuracy_score on test dataset :  0.6176470588235294\n"
     ]
    }
   ],
   "source": [
    "from sklearn.naive_bayes import GaussianNB\n",
    "from sklearn.metrics import accuracy_score\n",
    "\n",
    "\n",
    "train_x = train_x\n",
    "train_y = trainingSet['DEFECTIVE']\n",
    "\n",
    "# seperate the independent and target variable on testing data\n",
    "test_x = test_y\n",
    "test_y = testingSet['DEFECTIVE']\n",
    "\n",
    "'''\n",
    "Create the object of the Naive Bayes model\n",
    "You can also add other parameters and test your code here\n",
    "Some parameters are : var_smoothing\n",
    "Documentation of sklearn GaussianNB: \n",
    "\n",
    "https://scikit-learn.org/stable/modules/generated/sklearn.naive_bayes.GaussianNB.html\n",
    "\n",
    " '''\n",
    "model = GaussianNB()\n",
    "\n",
    "# fit the model with the training data\n",
    "model.fit(train_x,train_y)\n",
    "\n",
    "# predict the target on the train dataset\n",
    "predict_train = model.predict(train_x)\n",
    "print('Target on train data',predict_train) \n",
    "\n",
    "# Accuray Score on train dataset\n",
    "accuracy_train = accuracy_score(train_y,predict_train)\n",
    "print('accuracy_score on train dataset : ', accuracy_train)\n",
    "\n",
    "# predict the target on the test dataset\n",
    "predict_test = model.predict(test_x)\n",
    "print('Target on test data',predict_test) \n",
    "\n",
    "# Accuracy Score on test dataset\n",
    "accuracy_test = accuracy_score(test_y,predict_test)\n",
    "print('accuracy_score on test dataset : ', accuracy_test)"
   ]
  },
  {
   "cell_type": "code",
   "execution_count": 157,
   "metadata": {},
   "outputs": [
    {
     "data": {
      "text/plain": [
       "-1    103\n",
       " 1     98\n",
       "Name: DEFECTIVE, dtype: int64"
      ]
     },
     "execution_count": 157,
     "metadata": {},
     "output_type": "execute_result"
    }
   ],
   "source": [
    "X_valid.DEFECTIVE.value_counts()"
   ]
  },
  {
   "cell_type": "markdown",
   "metadata": {},
   "source": [
    "# Task 4: Investigate how the number of features in the training dataset affects the model performance on the validation set (16 marks)"
   ]
  },
  {
   "cell_type": "markdown",
   "metadata": {},
   "source": [
    "### a) Use the training set (II) to train 13 Naïve Bayes Classification models, with 13 different feature sets. That is: the first one is to use the 1st feature only; the second one is to use the 1st and the 2 nd features; the third one is to use the 1st, 2nd, and 3rd features, the fourth one is to use the first 4 features, and so on."
   ]
  },
  {
   "cell_type": "code",
   "execution_count": 158,
   "metadata": {},
   "outputs": [
    {
     "name": "stdout",
     "output_type": "stream",
     "text": [
      "Target on train data [-1 -1 -1 -1 -1  1 -1 -1  1 -1 -1 -1 -1 -1 -1  1  1 -1  1 -1 -1 -1 -1 -1\n",
      " -1 -1 -1 -1 -1 -1 -1 -1 -1  1 -1 -1 -1 -1 -1 -1 -1 -1 -1 -1  1 -1 -1 -1\n",
      " -1 -1 -1 -1 -1 -1  1 -1 -1 -1  1 -1 -1 -1 -1 -1 -1 -1 -1  1 -1  1 -1 -1\n",
      " -1  1 -1 -1  1 -1  1 -1 -1 -1 -1  1 -1 -1 -1 -1 -1 -1 -1 -1 -1 -1 -1  1\n",
      " -1 -1  1 -1 -1 -1 -1 -1 -1 -1 -1 -1 -1 -1 -1  1  1 -1 -1 -1  1  1  1 -1\n",
      " -1  1 -1 -1 -1 -1 -1  1 -1 -1  1  1  1  1 -1 -1 -1 -1 -1 -1 -1 -1 -1 -1\n",
      " -1 -1 -1 -1  1 -1 -1 -1 -1 -1 -1 -1 -1  1 -1 -1  1 -1  1]\n",
      "accuracy_score on train dataset with no features :  0.5950920245398773\n",
      "Target on test data [-1  1 -1 -1  1 -1 -1 -1 -1 -1 -1  1  1 -1 -1 -1 -1  1 -1 -1 -1 -1 -1 -1\n",
      " -1 -1 -1 -1 -1 -1 -1 -1 -1 -1 -1 -1 -1  1 -1  1  1  1 -1 -1 -1 -1 -1 -1\n",
      "  1  1 -1  1 -1 -1  1  1 -1 -1  1 -1 -1 -1 -1 -1  1 -1 -1  1 -1 -1 -1 -1\n",
      " -1 -1 -1 -1 -1 -1 -1 -1 -1 -1 -1 -1 -1 -1 -1 -1 -1 -1  1 -1 -1 -1 -1 -1\n",
      " -1 -1 -1 -1 -1  1 -1 -1 -1  1  1 -1 -1  1 -1  1 -1 -1 -1 -1 -1 -1 -1 -1\n",
      " -1 -1 -1 -1 -1  1 -1 -1 -1 -1 -1 -1 -1 -1 -1 -1  1 -1 -1 -1 -1 -1 -1 -1\n",
      " -1  1  1 -1 -1 -1 -1 -1 -1 -1 -1 -1 -1 -1 -1 -1 -1 -1  1 -1  1 -1 -1  1\n",
      " -1 -1 -1 -1  1  1 -1  1 -1 -1 -1 -1 -1  1 -1 -1 -1 -1 -1  1 -1 -1 -1 -1\n",
      " -1 -1 -1 -1 -1 -1  1 -1 -1]\n",
      "accuracy_score on test dataset :  0.5920398009950248\n",
      "Target on train data [-1 -1 -1 -1 -1  1 -1 -1 -1  1 -1 -1 -1 -1 -1  1  1 -1  1 -1 -1 -1 -1 -1\n",
      " -1 -1 -1 -1 -1 -1 -1 -1 -1  1 -1 -1 -1 -1 -1  1 -1 -1 -1 -1  1 -1 -1 -1\n",
      " -1 -1 -1 -1 -1 -1  1 -1 -1 -1  1 -1 -1 -1 -1 -1 -1 -1 -1  1 -1  1 -1 -1\n",
      "  1  1 -1 -1  1 -1  1 -1 -1 -1 -1  1 -1 -1 -1 -1 -1  1 -1 -1 -1 -1 -1  1\n",
      " -1 -1  1 -1 -1 -1 -1 -1 -1 -1 -1 -1 -1 -1 -1  1  1 -1 -1 -1  1  1  1 -1\n",
      " -1  1 -1 -1 -1 -1 -1  1 -1 -1  1  1  1  1 -1 -1  1  1 -1 -1 -1 -1  1 -1\n",
      " -1 -1 -1 -1  1 -1 -1 -1 -1 -1 -1 -1 -1  1 -1 -1  1 -1  1]\n",
      "accuracy_score on train dataset with no features :  0.6196319018404908\n",
      "Target on test data [-1  1  1 -1  1 -1 -1 -1 -1 -1 -1  1  1 -1 -1 -1 -1  1 -1 -1 -1 -1 -1 -1\n",
      " -1 -1 -1 -1 -1 -1 -1 -1 -1 -1 -1 -1 -1  1 -1  1  1  1 -1 -1 -1 -1 -1 -1\n",
      "  1  1 -1  1 -1 -1  1 -1 -1 -1 -1 -1  1 -1 -1 -1  1 -1  1  1 -1 -1 -1 -1\n",
      " -1 -1 -1 -1 -1 -1 -1 -1 -1 -1 -1 -1  1 -1 -1 -1 -1  1  1  1 -1 -1 -1 -1\n",
      " -1 -1 -1 -1 -1  1  1 -1 -1  1  1 -1 -1  1 -1  1 -1 -1  1 -1 -1  1 -1 -1\n",
      " -1 -1 -1  1 -1  1 -1 -1 -1 -1 -1 -1  1 -1 -1 -1 -1 -1 -1 -1 -1 -1 -1 -1\n",
      " -1  1  1 -1 -1 -1 -1 -1 -1 -1 -1 -1 -1 -1 -1 -1 -1 -1  1 -1  1 -1 -1  1\n",
      " -1 -1 -1 -1  1  1 -1  1 -1 -1  1 -1 -1  1 -1 -1 -1 -1 -1  1 -1 -1 -1 -1\n",
      "  1 -1 -1 -1 -1 -1  1 -1  1]\n",
      "accuracy_score on test dataset :  0.5970149253731343\n",
      "Target on train data [-1 -1 -1 -1 -1  1 -1 -1 -1  1 -1 -1 -1 -1 -1  1  1 -1  1 -1 -1 -1 -1 -1\n",
      " -1 -1 -1 -1 -1 -1 -1 -1 -1  1 -1 -1 -1 -1 -1  1 -1 -1 -1 -1 -1 -1 -1 -1\n",
      " -1 -1 -1 -1 -1 -1  1 -1 -1 -1  1 -1 -1  1 -1 -1 -1 -1 -1  1 -1  1 -1 -1\n",
      "  1  1 -1 -1  1 -1  1 -1 -1 -1 -1  1 -1 -1 -1 -1  1  1 -1 -1  1  1 -1  1\n",
      " -1 -1  1 -1 -1 -1 -1 -1  1 -1 -1 -1 -1 -1 -1  1  1 -1 -1 -1  1  1  1  1\n",
      " -1  1 -1 -1 -1 -1 -1  1 -1 -1  1  1  1  1 -1 -1  1  1 -1 -1 -1 -1  1 -1\n",
      " -1 -1 -1 -1  1 -1 -1 -1 -1 -1 -1 -1 -1  1 -1 -1  1 -1  1]\n",
      "accuracy_score on train dataset with no features :  0.588957055214724\n",
      "Target on test data [-1  1  1 -1  1 -1 -1 -1 -1 -1 -1  1 -1 -1 -1 -1 -1  1 -1 -1 -1 -1 -1 -1\n",
      " -1 -1 -1 -1 -1 -1 -1 -1 -1 -1 -1 -1 -1  1 -1  1 -1  1 -1 -1 -1 -1 -1 -1\n",
      "  1  1 -1  1 -1 -1  1  1 -1 -1  1 -1  1  1 -1 -1  1 -1  1  1 -1 -1 -1 -1\n",
      " -1 -1 -1 -1 -1 -1 -1 -1 -1 -1 -1 -1  1 -1 -1 -1 -1 -1  1  1 -1 -1 -1 -1\n",
      " -1 -1 -1  1 -1  1  1 -1 -1 -1  1  1 -1  1 -1  1 -1 -1  1 -1 -1  1 -1 -1\n",
      " -1 -1 -1  1  1  1 -1 -1 -1 -1 -1  1  1 -1 -1 -1  1  1 -1 -1 -1 -1 -1 -1\n",
      " -1  1  1 -1 -1 -1 -1 -1 -1 -1 -1 -1 -1 -1 -1 -1 -1 -1  1 -1  1 -1 -1  1\n",
      "  1 -1 -1 -1  1 -1 -1  1 -1 -1  1 -1 -1  1 -1 -1 -1 -1 -1  1 -1 -1 -1 -1\n",
      " -1 -1 -1 -1 -1 -1  1 -1  1]\n",
      "accuracy_score on test dataset :  0.6169154228855721\n",
      "Target on train data [-1 -1 -1 -1 -1  1 -1 -1 -1  1 -1 -1 -1 -1 -1  1  1 -1  1 -1 -1 -1 -1 -1\n",
      " -1 -1 -1 -1 -1 -1 -1 -1 -1  1 -1 -1 -1 -1 -1  1 -1 -1 -1 -1 -1 -1 -1 -1\n",
      " -1 -1 -1 -1 -1 -1 -1 -1 -1 -1  1 -1 -1 -1 -1 -1 -1 -1 -1  1 -1  1 -1 -1\n",
      "  1  1 -1 -1  1 -1  1 -1 -1 -1 -1  1 -1 -1 -1 -1 -1 -1 -1  1 -1  1 -1  1\n",
      " -1 -1  1 -1  1 -1 -1 -1 -1 -1 -1 -1 -1  1 -1  1  1 -1 -1 -1  1  1  1 -1\n",
      " -1  1 -1 -1 -1 -1 -1  1 -1 -1  1  1  1  1 -1 -1  1  1 -1 -1 -1 -1  1 -1\n",
      " -1 -1 -1 -1  1 -1  1 -1 -1 -1 -1 -1 -1  1 -1 -1  1 -1  1]\n",
      "accuracy_score on train dataset with no features :  0.5950920245398773\n",
      "Target on test data [-1  1  1 -1  1 -1 -1 -1 -1 -1 -1  1 -1 -1 -1 -1 -1  1 -1 -1 -1 -1 -1 -1\n",
      " -1 -1 -1 -1 -1 -1 -1 -1 -1 -1  1 -1 -1  1 -1  1 -1  1 -1 -1 -1 -1 -1 -1\n",
      "  1  1 -1  1 -1 -1  1  1 -1 -1 -1 -1  1  1 -1 -1  1 -1  1  1 -1 -1 -1 -1\n",
      " -1 -1 -1 -1 -1 -1 -1 -1 -1 -1 -1 -1  1 -1 -1 -1 -1 -1  1  1 -1 -1 -1 -1\n",
      " -1 -1 -1 -1 -1  1  1 -1 -1 -1  1 -1 -1  1 -1  1 -1 -1  1 -1 -1  1 -1 -1\n",
      " -1 -1 -1  1 -1  1 -1 -1 -1 -1 -1 -1  1 -1 -1 -1  1 -1 -1 -1 -1 -1 -1 -1\n",
      " -1  1  1 -1 -1 -1 -1 -1 -1 -1 -1 -1 -1 -1 -1 -1 -1 -1  1 -1  1 -1 -1  1\n",
      " -1 -1 -1 -1  1 -1 -1  1 -1 -1  1 -1 -1  1 -1 -1 -1 -1 -1  1 -1 -1 -1 -1\n",
      " -1 -1 -1 -1 -1 -1  1 -1  1]\n",
      "accuracy_score on test dataset :  0.6169154228855721\n",
      "Target on train data [-1 -1 -1 -1 -1  1 -1 -1 -1  1 -1 -1 -1 -1 -1  1  1 -1  1 -1 -1 -1 -1 -1\n",
      " -1 -1 -1 -1 -1 -1 -1 -1 -1  1 -1 -1 -1 -1 -1  1 -1 -1 -1 -1 -1 -1 -1 -1\n",
      " -1 -1 -1 -1 -1 -1 -1 -1 -1 -1  1 -1 -1 -1 -1 -1 -1 -1 -1  1 -1  1 -1 -1\n",
      "  1  1 -1 -1  1 -1  1 -1 -1 -1 -1  1 -1 -1 -1 -1  1  1 -1  1 -1  1 -1  1\n",
      " -1 -1  1 -1 -1 -1 -1 -1 -1 -1 -1 -1 -1  1 -1  1  1 -1 -1 -1  1  1  1 -1\n",
      " -1  1 -1 -1 -1 -1 -1  1 -1 -1  1  1  1  1 -1 -1  1  1 -1 -1 -1 -1  1 -1\n",
      " -1 -1 -1 -1  1 -1  1 -1 -1 -1 -1 -1 -1  1 -1 -1  1 -1  1]\n",
      "accuracy_score on train dataset with no features :  0.6012269938650306\n",
      "Target on test data [-1  1  1 -1  1 -1 -1 -1 -1 -1 -1  1 -1 -1 -1 -1 -1  1 -1 -1 -1 -1 -1 -1\n",
      " -1 -1 -1 -1 -1 -1 -1 -1 -1 -1  1 -1 -1  1 -1  1 -1  1 -1 -1 -1 -1 -1 -1\n",
      "  1  1 -1  1 -1 -1  1  1 -1 -1 -1 -1  1  1 -1 -1  1 -1  1  1 -1 -1 -1 -1\n",
      " -1 -1 -1 -1 -1 -1 -1 -1 -1 -1 -1 -1  1 -1 -1 -1 -1 -1  1  1 -1 -1 -1 -1\n",
      " -1 -1 -1 -1 -1  1  1 -1 -1 -1  1 -1 -1  1 -1  1 -1 -1  1 -1 -1  1 -1 -1\n",
      " -1 -1 -1  1 -1  1 -1 -1 -1 -1 -1 -1  1 -1 -1 -1  1 -1 -1 -1 -1 -1 -1 -1\n",
      " -1  1  1 -1 -1 -1 -1 -1 -1 -1 -1 -1 -1 -1 -1 -1 -1 -1  1 -1  1 -1 -1  1\n",
      "  1 -1 -1 -1  1 -1 -1  1 -1 -1  1 -1 -1  1 -1 -1 -1 -1 -1  1 -1 -1 -1 -1\n",
      " -1 -1 -1 -1 -1 -1  1 -1  1]\n",
      "accuracy_score on test dataset :  0.6119402985074627\n",
      "Target on train data [-1 -1 -1 -1 -1  1 -1 -1 -1  1 -1 -1 -1 -1 -1 -1  1 -1  1 -1 -1 -1 -1 -1\n",
      " -1 -1 -1 -1 -1 -1 -1 -1 -1  1 -1 -1 -1 -1 -1  1 -1 -1 -1 -1 -1 -1 -1 -1\n",
      " -1 -1 -1 -1 -1 -1 -1 -1 -1 -1  1 -1 -1 -1 -1 -1 -1 -1 -1  1 -1  1 -1 -1\n",
      "  1  1 -1 -1  1 -1  1 -1 -1 -1 -1  1 -1 -1 -1 -1  1  1 -1  1 -1  1 -1  1\n",
      " -1 -1  1 -1 -1 -1 -1 -1 -1 -1 -1 -1 -1  1 -1  1  1 -1 -1 -1  1  1  1 -1\n",
      " -1  1 -1 -1 -1 -1 -1  1 -1 -1  1  1  1  1 -1 -1  1  1 -1 -1 -1 -1  1 -1\n",
      " -1 -1 -1 -1  1 -1  1 -1 -1 -1 -1 -1 -1  1 -1 -1  1 -1  1]\n",
      "accuracy_score on train dataset with no features :  0.5950920245398773\n",
      "Target on test data [-1  1  1 -1  1 -1 -1 -1 -1 -1 -1  1 -1 -1 -1 -1 -1  1 -1 -1 -1 -1 -1 -1\n",
      " -1 -1 -1 -1 -1 -1 -1 -1 -1 -1  1 -1 -1 -1 -1  1 -1 -1 -1 -1 -1 -1 -1 -1\n",
      "  1  1 -1  1 -1 -1  1  1 -1 -1 -1 -1  1  1 -1 -1  1 -1  1  1 -1 -1 -1 -1\n",
      " -1 -1 -1 -1 -1 -1 -1 -1 -1 -1 -1 -1  1 -1 -1 -1 -1 -1  1  1 -1 -1 -1 -1\n",
      " -1 -1 -1 -1 -1  1  1 -1 -1 -1  1  1 -1  1 -1  1 -1 -1  1 -1 -1  1 -1 -1\n",
      " -1 -1 -1  1 -1  1 -1 -1 -1 -1 -1 -1  1 -1 -1 -1  1 -1 -1 -1 -1 -1 -1 -1\n",
      " -1  1  1 -1 -1 -1 -1 -1 -1 -1 -1 -1 -1 -1 -1 -1 -1 -1  1 -1  1 -1 -1  1\n",
      "  1 -1 -1 -1  1 -1 -1  1 -1 -1  1 -1 -1  1 -1 -1 -1 -1 -1  1 -1 -1 -1 -1\n",
      " -1 -1 -1 -1 -1 -1  1 -1  1]\n",
      "accuracy_score on test dataset :  0.6069651741293532\n",
      "Target on train data [-1 -1 -1 -1 -1  1 -1 -1 -1  1 -1 -1 -1 -1 -1 -1  1 -1  1 -1 -1 -1 -1 -1\n",
      " -1 -1 -1 -1 -1 -1 -1 -1 -1  1 -1 -1 -1 -1 -1  1 -1 -1 -1 -1 -1 -1 -1 -1\n",
      " -1 -1 -1 -1 -1 -1 -1 -1 -1 -1  1 -1 -1 -1 -1 -1 -1 -1 -1  1 -1  1 -1 -1\n",
      "  1  1 -1 -1  1 -1  1 -1 -1 -1 -1  1 -1 -1 -1 -1  1  1 -1  1 -1  1 -1  1\n",
      " -1 -1  1 -1 -1 -1 -1 -1 -1 -1 -1 -1 -1  1 -1  1  1 -1 -1 -1  1  1  1  1\n",
      " -1  1 -1 -1 -1 -1 -1  1 -1 -1  1  1  1  1 -1 -1  1  1 -1 -1 -1 -1  1 -1\n",
      " -1 -1 -1 -1  1 -1  1 -1 -1 -1 -1 -1 -1  1 -1 -1  1 -1  1]\n",
      "accuracy_score on train dataset with no features :  0.588957055214724\n",
      "Target on test data [-1  1  1 -1  1 -1 -1 -1 -1 -1 -1  1 -1 -1 -1 -1 -1  1 -1 -1 -1 -1 -1 -1\n",
      " -1 -1 -1 -1 -1 -1 -1 -1 -1 -1  1 -1 -1  1 -1  1 -1 -1 -1 -1 -1 -1 -1 -1\n",
      "  1  1 -1  1 -1 -1  1  1 -1 -1 -1 -1  1  1 -1 -1  1 -1  1  1 -1 -1 -1 -1\n",
      " -1 -1 -1 -1 -1 -1 -1 -1 -1 -1 -1 -1  1 -1 -1 -1 -1 -1 -1  1 -1 -1 -1 -1\n",
      " -1 -1 -1 -1 -1  1  1 -1 -1 -1  1  1 -1  1 -1  1 -1 -1  1 -1 -1  1 -1 -1\n",
      " -1 -1 -1  1 -1  1 -1 -1 -1 -1 -1 -1  1 -1 -1 -1  1 -1 -1 -1 -1 -1 -1 -1\n",
      " -1  1  1 -1 -1 -1 -1 -1 -1 -1 -1 -1 -1 -1 -1 -1 -1 -1  1 -1  1 -1 -1  1\n",
      "  1 -1 -1 -1  1 -1 -1  1 -1 -1  1 -1 -1 -1 -1 -1 -1 -1 -1  1 -1 -1 -1 -1\n",
      " -1 -1 -1 -1 -1 -1  1 -1  1]\n",
      "accuracy_score on test dataset :  0.6119402985074627\n",
      "Target on train data [-1 -1 -1 -1 -1  1 -1 -1 -1  1 -1 -1 -1 -1 -1 -1  1 -1  1 -1 -1 -1 -1 -1\n",
      " -1 -1 -1 -1 -1 -1 -1 -1 -1  1 -1 -1 -1 -1 -1  1 -1 -1 -1 -1 -1 -1 -1 -1\n",
      " -1 -1 -1 -1 -1 -1 -1 -1 -1 -1  1 -1 -1 -1 -1 -1 -1 -1 -1  1 -1  1 -1 -1\n",
      "  1  1 -1 -1  1 -1  1 -1 -1 -1  1  1 -1 -1 -1 -1  1  1 -1 -1 -1  1 -1  1\n",
      " -1 -1 -1 -1 -1 -1 -1 -1 -1 -1 -1 -1 -1  1 -1  1  1 -1 -1 -1  1  1  1  1\n",
      " -1  1 -1 -1 -1 -1 -1  1 -1 -1  1  1  1  1 -1 -1  1  1 -1 -1 -1 -1  1 -1\n",
      " -1 -1 -1 -1  1 -1 -1 -1 -1 -1 -1 -1 -1  1 -1 -1  1 -1  1]\n",
      "accuracy_score on train dataset with no features :  0.588957055214724\n",
      "Target on test data [-1 -1  1 -1  1 -1 -1 -1 -1 -1 -1  1 -1 -1 -1 -1 -1  1 -1 -1 -1 -1 -1 -1\n",
      " -1 -1 -1 -1 -1 -1 -1 -1 -1 -1  1 -1 -1 -1 -1  1  1 -1 -1 -1 -1 -1 -1 -1\n",
      "  1  1 -1  1 -1 -1  1  1 -1 -1 -1 -1  1  1 -1 -1  1 -1  1  1 -1 -1 -1 -1\n",
      " -1 -1 -1 -1 -1 -1 -1 -1 -1 -1 -1 -1  1 -1 -1 -1 -1 -1 -1  1 -1 -1 -1 -1\n",
      " -1 -1 -1  1 -1  1  1 -1 -1 -1  1  1 -1  1 -1  1 -1 -1  1 -1 -1  1 -1 -1\n",
      " -1 -1 -1  1 -1  1 -1 -1 -1 -1 -1 -1  1 -1 -1 -1  1 -1 -1 -1 -1 -1 -1 -1\n",
      " -1  1  1 -1 -1 -1 -1 -1 -1 -1 -1 -1 -1 -1 -1 -1 -1 -1  1 -1  1 -1 -1  1\n",
      "  1 -1 -1 -1  1 -1 -1  1 -1 -1  1 -1 -1  1 -1 -1 -1 -1 -1  1 -1 -1 -1 -1\n",
      " -1 -1 -1 -1 -1 -1 -1 -1  1]\n",
      "accuracy_score on test dataset :  0.6119402985074627\n",
      "Target on train data [-1 -1 -1 -1  1  1 -1 -1 -1  1 -1 -1 -1 -1 -1  1  1 -1  1 -1 -1 -1 -1 -1\n",
      " -1 -1 -1 -1 -1 -1 -1 -1 -1  1 -1 -1 -1 -1 -1  1 -1 -1 -1 -1 -1 -1 -1 -1\n",
      " -1 -1 -1 -1 -1 -1 -1 -1 -1 -1  1 -1 -1 -1 -1 -1 -1 -1 -1  1 -1  1 -1 -1\n",
      "  1  1 -1 -1  1 -1  1 -1 -1 -1  1  1 -1 -1 -1 -1  1  1 -1 -1 -1  1 -1  1\n",
      " -1 -1 -1 -1 -1 -1 -1 -1 -1 -1 -1 -1 -1  1 -1  1  1 -1 -1 -1  1  1  1 -1\n",
      " -1  1 -1 -1 -1 -1 -1  1 -1 -1  1  1  1  1 -1 -1  1  1 -1 -1 -1 -1  1 -1\n",
      " -1 -1 -1 -1  1 -1 -1 -1 -1 -1 -1 -1 -1  1 -1 -1  1 -1  1]\n",
      "accuracy_score on train dataset with no features :  0.6073619631901841\n",
      "Target on test data [-1  1  1 -1  1 -1 -1 -1 -1 -1 -1  1 -1 -1 -1 -1 -1  1 -1 -1 -1 -1 -1 -1\n",
      " -1 -1 -1 -1 -1 -1 -1 -1 -1 -1  1 -1 -1  1 -1  1  1 -1 -1 -1 -1 -1 -1 -1\n",
      "  1  1 -1  1 -1 -1  1  1 -1 -1 -1 -1  1  1 -1 -1  1 -1  1  1 -1 -1 -1 -1\n",
      " -1 -1 -1 -1 -1 -1 -1 -1 -1 -1 -1 -1  1 -1 -1 -1 -1 -1 -1  1 -1 -1 -1 -1\n",
      " -1 -1 -1  1 -1  1  1 -1 -1 -1  1 -1 -1  1 -1  1 -1 -1  1 -1 -1  1 -1 -1\n",
      " -1 -1 -1  1 -1  1 -1 -1 -1 -1 -1 -1  1 -1 -1 -1 -1 -1 -1 -1 -1 -1 -1 -1\n",
      " -1  1  1 -1 -1 -1 -1 -1 -1 -1 -1 -1 -1 -1 -1 -1 -1 -1  1 -1  1 -1 -1  1\n",
      "  1 -1 -1 -1  1 -1 -1  1 -1 -1  1 -1 -1  1 -1 -1 -1 -1 -1  1 -1 -1 -1 -1\n",
      " -1 -1 -1 -1 -1 -1 -1 -1  1]\n",
      "accuracy_score on test dataset :  0.6218905472636815\n",
      "Target on train data [-1 -1 -1 -1  1  1 -1 -1 -1  1 -1 -1 -1 -1 -1  1  1 -1  1 -1 -1 -1 -1 -1\n",
      " -1 -1 -1 -1 -1 -1 -1 -1 -1  1 -1 -1 -1 -1 -1  1 -1 -1 -1 -1 -1 -1 -1 -1\n",
      " -1 -1 -1 -1 -1 -1 -1 -1 -1 -1  1 -1 -1 -1 -1 -1 -1 -1 -1  1 -1  1 -1 -1\n",
      "  1  1 -1 -1  1 -1  1 -1 -1 -1  1  1 -1 -1 -1 -1  1  1 -1 -1 -1  1 -1  1\n",
      " -1 -1 -1 -1 -1 -1 -1 -1 -1 -1 -1 -1 -1  1 -1  1  1 -1 -1 -1  1  1  1 -1\n",
      " -1  1 -1 -1 -1 -1 -1  1 -1 -1  1  1  1  1 -1 -1  1  1 -1 -1 -1 -1  1 -1\n",
      " -1 -1 -1 -1  1 -1 -1 -1 -1 -1 -1 -1 -1  1 -1 -1  1 -1  1]\n",
      "accuracy_score on train dataset with no features :  0.6073619631901841\n",
      "Target on test data [-1  1  1 -1  1 -1 -1 -1 -1 -1 -1  1 -1 -1 -1 -1 -1  1 -1 -1 -1 -1 -1 -1\n",
      " -1 -1 -1 -1 -1 -1 -1 -1 -1 -1  1 -1 -1  1 -1  1  1 -1 -1 -1 -1 -1 -1 -1\n",
      "  1  1 -1  1 -1 -1  1 -1 -1 -1 -1 -1  1  1 -1 -1  1 -1  1  1 -1 -1 -1 -1\n",
      " -1 -1 -1 -1 -1 -1 -1 -1 -1 -1 -1 -1  1 -1 -1 -1 -1 -1 -1  1 -1 -1 -1 -1\n",
      " -1 -1 -1  1 -1  1  1 -1 -1 -1  1 -1 -1  1 -1  1 -1 -1  1 -1 -1  1 -1 -1\n",
      " -1 -1 -1  1 -1  1 -1 -1 -1 -1 -1  1  1 -1 -1 -1 -1 -1 -1 -1 -1 -1 -1 -1\n",
      " -1  1  1 -1 -1 -1 -1 -1 -1 -1 -1 -1 -1 -1 -1 -1 -1 -1  1 -1  1 -1 -1  1\n",
      "  1 -1 -1 -1  1 -1 -1  1 -1 -1  1 -1 -1  1 -1 -1 -1 -1 -1  1 -1 -1 -1 -1\n",
      "  1 -1 -1 -1 -1 -1 -1 -1  1]\n",
      "accuracy_score on test dataset :  0.6169154228855721\n",
      "Target on train data [-1 -1 -1 -1  1  1 -1 -1 -1  1 -1 -1 -1 -1 -1  1  1 -1  1 -1 -1 -1 -1 -1\n",
      " -1 -1 -1 -1 -1 -1 -1 -1 -1  1 -1 -1 -1 -1 -1  1 -1 -1 -1 -1 -1 -1 -1 -1\n",
      " -1 -1 -1 -1 -1 -1 -1 -1 -1 -1  1 -1 -1 -1 -1 -1 -1 -1 -1  1 -1  1 -1 -1\n",
      "  1  1 -1 -1  1 -1  1 -1 -1 -1  1  1 -1 -1 -1 -1  1  1 -1 -1 -1  1 -1  1\n",
      " -1 -1 -1 -1 -1 -1 -1 -1 -1 -1 -1 -1 -1  1 -1  1  1 -1 -1 -1  1  1  1 -1\n",
      " -1  1 -1 -1 -1 -1 -1  1 -1 -1  1  1  1  1 -1 -1  1  1 -1 -1 -1 -1  1 -1\n",
      " -1 -1 -1 -1  1 -1 -1 -1 -1 -1 -1 -1 -1  1 -1 -1  1 -1  1]\n",
      "accuracy_score on train dataset with no features :  0.6073619631901841\n",
      "Target on test data [-1  1  1 -1  1 -1 -1 -1 -1 -1 -1  1 -1 -1 -1 -1 -1  1 -1 -1 -1 -1 -1 -1\n",
      " -1 -1 -1 -1 -1 -1 -1 -1 -1 -1  1 -1 -1  1 -1  1  1 -1 -1 -1 -1 -1 -1 -1\n",
      "  1  1 -1  1 -1 -1  1  1 -1 -1 -1 -1  1  1 -1 -1  1 -1  1  1 -1 -1 -1 -1\n",
      " -1 -1 -1 -1 -1 -1 -1 -1 -1 -1 -1 -1  1 -1 -1 -1 -1 -1 -1  1 -1 -1 -1 -1\n",
      " -1 -1 -1  1 -1  1  1 -1 -1 -1  1 -1 -1  1 -1  1 -1 -1  1 -1 -1  1 -1 -1\n",
      " -1 -1 -1  1 -1  1 -1 -1 -1 -1 -1  1  1 -1 -1 -1 -1 -1 -1 -1 -1 -1 -1 -1\n",
      " -1  1  1 -1 -1 -1 -1 -1 -1 -1 -1 -1 -1 -1 -1 -1 -1 -1  1 -1  1 -1 -1  1\n",
      "  1 -1 -1 -1  1 -1 -1  1 -1 -1  1 -1 -1  1 -1 -1 -1 -1 -1  1 -1 -1 -1 -1\n",
      "  1 -1 -1 -1 -1 -1  1 -1  1]\n",
      "accuracy_score on test dataset :  0.6268656716417911\n",
      "Target on train data [-1 -1 -1 -1  1  1 -1 -1 -1  1 -1 -1 -1 -1 -1  1  1 -1  1 -1 -1 -1 -1 -1\n",
      " -1 -1 -1 -1 -1 -1 -1 -1 -1  1 -1 -1 -1 -1 -1  1 -1 -1 -1 -1 -1 -1 -1 -1\n",
      " -1 -1 -1 -1 -1 -1 -1 -1 -1 -1  1 -1 -1 -1 -1 -1 -1 -1 -1  1 -1  1 -1 -1\n",
      "  1  1 -1 -1  1 -1  1 -1 -1 -1  1  1 -1 -1 -1 -1  1  1 -1 -1 -1  1 -1  1\n",
      " -1 -1 -1 -1 -1 -1 -1 -1 -1 -1 -1 -1 -1  1 -1  1  1 -1 -1 -1  1  1  1 -1\n",
      " -1  1 -1 -1 -1 -1 -1  1 -1 -1  1  1  1  1 -1 -1  1  1 -1 -1 -1 -1  1 -1\n",
      " -1 -1 -1 -1  1 -1 -1 -1 -1 -1 -1 -1 -1  1 -1 -1  1 -1  1]\n",
      "accuracy_score on train dataset with no features :  0.6073619631901841\n",
      "Target on test data [-1  1  1 -1  1 -1 -1 -1 -1 -1 -1  1 -1 -1 -1 -1 -1  1 -1 -1 -1 -1 -1 -1\n",
      " -1 -1 -1 -1 -1 -1 -1 -1 -1 -1  1 -1 -1  1 -1  1  1 -1 -1 -1 -1 -1 -1 -1\n",
      "  1  1 -1  1 -1 -1  1  1 -1 -1 -1 -1  1  1 -1 -1  1 -1  1  1 -1 -1 -1 -1\n",
      " -1 -1 -1 -1 -1 -1 -1 -1 -1  1 -1 -1  1 -1 -1 -1 -1  1 -1  1 -1 -1 -1 -1\n",
      " -1 -1 -1  1 -1  1  1 -1 -1 -1  1 -1 -1  1 -1  1 -1 -1  1 -1 -1  1 -1 -1\n",
      " -1 -1 -1  1 -1  1 -1 -1 -1 -1 -1  1  1 -1 -1 -1 -1 -1 -1 -1 -1 -1 -1 -1\n",
      " -1  1  1 -1 -1 -1 -1 -1 -1 -1 -1 -1 -1 -1 -1 -1 -1 -1  1 -1  1 -1 -1  1\n",
      "  1 -1 -1 -1  1 -1 -1  1 -1 -1  1 -1 -1  1 -1 -1 -1 -1 -1  1 -1 -1 -1 -1\n",
      "  1 -1 -1 -1 -1 -1 -1 -1  1]\n",
      "accuracy_score on test dataset :  0.6218905472636815\n",
      "Target on train data [-1 -1 -1 -1  1  1 -1 -1 -1  1 -1 -1 -1 -1 -1  1  1 -1  1 -1 -1 -1 -1 -1\n",
      " -1 -1 -1 -1 -1 -1 -1 -1 -1  1 -1 -1 -1 -1 -1  1 -1 -1 -1 -1 -1 -1 -1 -1\n",
      " -1 -1 -1 -1 -1 -1 -1 -1 -1 -1  1 -1 -1 -1 -1 -1 -1 -1 -1  1 -1  1 -1 -1\n",
      "  1  1 -1 -1  1 -1  1 -1 -1 -1  1  1 -1 -1 -1 -1  1  1 -1 -1 -1  1 -1  1\n",
      " -1 -1 -1 -1 -1 -1 -1 -1 -1 -1 -1 -1 -1  1 -1  1  1 -1 -1 -1  1  1  1 -1\n",
      " -1  1 -1 -1 -1 -1 -1  1 -1 -1  1  1  1  1 -1 -1  1  1 -1 -1 -1 -1  1 -1\n",
      " -1 -1 -1 -1  1 -1 -1 -1 -1 -1 -1 -1 -1  1 -1 -1  1 -1  1]\n",
      "accuracy_score on train dataset with no features :  0.6073619631901841\n",
      "Target on test data [-1  1  1 -1  1 -1 -1 -1 -1 -1 -1  1 -1 -1 -1 -1 -1  1 -1 -1 -1 -1 -1 -1\n",
      " -1 -1 -1 -1 -1 -1 -1 -1 -1 -1  1 -1 -1  1 -1  1  1 -1 -1 -1 -1 -1 -1 -1\n",
      "  1  1 -1  1 -1 -1  1  1 -1 -1 -1 -1  1  1 -1 -1  1 -1  1  1 -1 -1 -1 -1\n",
      " -1 -1 -1 -1 -1 -1 -1 -1 -1  1 -1 -1  1 -1 -1 -1 -1  1 -1  1 -1 -1 -1 -1\n",
      " -1 -1 -1  1 -1  1  1 -1 -1 -1  1 -1 -1  1 -1  1 -1 -1  1 -1 -1  1 -1 -1\n",
      " -1 -1 -1  1 -1  1 -1 -1 -1 -1 -1  1  1 -1 -1 -1 -1 -1 -1 -1 -1 -1 -1 -1\n",
      " -1  1  1 -1 -1 -1 -1 -1 -1 -1 -1 -1 -1 -1 -1 -1 -1 -1  1 -1  1 -1 -1  1\n",
      " -1 -1 -1 -1  1 -1 -1  1 -1 -1  1 -1 -1  1 -1 -1 -1 -1 -1  1 -1 -1 -1 -1\n",
      "  1 -1 -1 -1 -1 -1 -1 -1  1]\n",
      "accuracy_score on test dataset :  0.6268656716417911\n"
     ]
    }
   ],
   "source": [
    "# train_x.columns.size\n",
    "\n",
    "# train_x[train_x.columns[0]]\n",
    "y_train = y_train\n",
    "y_valid = y_valid\n",
    "X_train = X_train.drop(columns=['DEFECTIVE'],axis=1)\n",
    "X_valid = X_valid.drop(columns=['DEFECTIVE'],axis=1)\n",
    "column_size = X_train.columns.size\n",
    "accuracy_tr=[]\n",
    "accuracy_te=[]\n",
    "\n",
    "for x in range(column_size):\n",
    "    X_train_0 = X_train.loc[:,:X_train.columns[x]]\n",
    "    X_valid_0 = X_valid.loc[:,:X_valid.columns[x]]\n",
    "    \n",
    "    model = GaussianNB()\n",
    "\n",
    "    # fit the model with the training data(II)\n",
    "    model.fit(X_train_0,y_train)\n",
    "\n",
    "    # predict the target on the train dataset(II)\n",
    "    predict_train = model.predict(X_train_0)\n",
    "    print('Target on train data',predict_train) \n",
    "\n",
    "    # Accuray Score on train dataset(II)\n",
    "    accuracy_train = accuracy_score(y_train,predict_train)\n",
    "    accuracy_tr.append(accuracy_train)\n",
    "    print('accuracy_score on train dataset with no features : ', accuracy_train)\n",
    "\n",
    "    # predict the target on the validation dataset\n",
    "    predict_test = model.predict(X_valid_0)\n",
    "    print('Target on test data',predict_test) \n",
    "\n",
    "    # Accuracy Score on validation dataset\n",
    "    accuracy_test = accuracy_score(y_valid,predict_test)\n",
    "    accuracy_te.append(accuracy_test)\n",
    "    print('accuracy_score on test dataset : ', accuracy_test)\n",
    "\n"
   ]
  },
  {
   "cell_type": "code",
   "execution_count": 159,
   "metadata": {},
   "outputs": [
    {
     "data": {
      "text/plain": [
       "[0.5950920245398773,\n",
       " 0.6196319018404908,\n",
       " 0.588957055214724,\n",
       " 0.5950920245398773,\n",
       " 0.6012269938650306,\n",
       " 0.5950920245398773,\n",
       " 0.588957055214724,\n",
       " 0.588957055214724,\n",
       " 0.6073619631901841,\n",
       " 0.6073619631901841,\n",
       " 0.6073619631901841,\n",
       " 0.6073619631901841,\n",
       " 0.6073619631901841]"
      ]
     },
     "execution_count": 159,
     "metadata": {},
     "output_type": "execute_result"
    }
   ],
   "source": [
    "accuracy_tr"
   ]
  },
  {
   "cell_type": "code",
   "execution_count": 160,
   "metadata": {},
   "outputs": [],
   "source": [
    "count = []\n",
    "for x in range(column_size):\n",
    "    count.append(x)"
   ]
  },
  {
   "cell_type": "markdown",
   "metadata": {},
   "source": [
    "#### Measure the accuracy rate on both the training set and the validation set. Report the results byplotting them in a figure: that is, a plot of the accuracy rate against the number of features used in each model. There should be two curves in this figure: one for the training set (II); the other one for the validation set"
   ]
  },
  {
   "cell_type": "code",
   "execution_count": 161,
   "metadata": {},
   "outputs": [
    {
     "data": {
      "image/png": "[encoded data removed]",
      "text/plain": [
       "<matplotlib.figure.Figure at 0x182ba9ced68>"
      ]
     },
     "metadata": {},
     "output_type": "display_data"
    }
   ],
   "source": [
    "\n",
    "# Plot accurancy bands for training and validation sets\n",
    "plt.plot(count, accuracy_tr, color=\"red\",label=\" training set (II)\")\n",
    "plt.plot(count, accuracy_te, color=\"pink\",label=\"validation set\")\n",
    "\n",
    "# Create plot\n",
    "plt.title(\"Validation Curve\")\n",
    "plt.xlabel(\"Number of features\")\n",
    "plt.ylabel(\"Accuracy Score\")\n",
    "plt.tight_layout()\n",
    "plt.legend(loc=\"best\")\n",
    "plt.show()"
   ]
  },
  {
   "cell_type": "markdown",
   "metadata": {},
   "source": [
    "#### b) Report what is the best number of features you would like to use in this work and explain why you choose it. Write it down in your Jupyter notebook"
   ]
  },
  {
   "cell_type": "markdown",
   "metadata": {},
   "source": [
    "As per corelation with heat map no features are corelated with target variable defective.Best no of features i would like to use in this work is all 13 features because there is no corelation with another feature."
   ]
  },
  {
   "cell_type": "markdown",
   "metadata": {},
   "source": [
    "#### c) Use the selected number of features to train the model and report the performance on the test set"
   ]
  },
  {
   "cell_type": "code",
   "execution_count": 100,
   "metadata": {},
   "outputs": [
    {
     "name": "stdout",
     "output_type": "stream",
     "text": [
      "accuracy_score on train dataset :  1.0\n",
      "accuracy_score on test dataset :  1.0\n"
     ]
    }
   ],
   "source": [
    "from sklearn.naive_bayes import GaussianNB\n",
    "from sklearn.metrics import accuracy_score\n",
    "\n",
    "\n",
    "train_x = trainingSet\n",
    "train_y = trainingSet['DEFECTIVE']\n",
    "\n",
    "# seperate the independent and target variable on testing data\n",
    "test_x = testingSet\n",
    "test_y = testingSet['DEFECTIVE']\n",
    "\n",
    "'''\n",
    "Create the object of the Naive Bayes model\n",
    "You can also add other parameters and test your code here\n",
    "Some parameters are : var_smoothing\n",
    "Documentation of sklearn GaussianNB: \n",
    "\n",
    "https://scikit-learn.org/stable/modules/generated/sklearn.naive_bayes.GaussianNB.html\n",
    "\n",
    " '''\n",
    "model = GaussianNB()\n",
    "\n",
    "# fit the model with the training data\n",
    "model.fit(train_x,train_y)\n",
    "\n",
    "# predict the target on the train dataset\n",
    "predict_train = model.predict(train_x)\n",
    "# print('Target on train data',predict_train) \n",
    "\n",
    "# Accuray Score on train dataset\n",
    "accuracy_train = accuracy_score(train_y,predict_train)\n",
    "print('accuracy_score on train dataset : ', accuracy_train)\n",
    "\n",
    "# predict the target on the test dataset\n",
    "predict_test = model.predict(test_x)\n",
    "# print('Target on test data',predict_test) \n",
    "\n",
    "# Accuracy Score on test dataset\n",
    "accuracy_test = accuracy_score(test_y,predict_test)\n",
    "print('accuracy_score on test dataset : ', accuracy_test)"
   ]
  },
  {
   "cell_type": "markdown",
   "metadata": {},
   "source": [
    "# Task 5: Summarize your findings, write your conclusions using critical thinking (no more than 100words) and write it down in your Jupyter notebook (4 marks). "
   ]
  },
  {
   "cell_type": "markdown",
   "metadata": {},
   "source": [
    "Feature selection is not linearly working on the validation set.With over all observation of feature selection and applying model is leading to over fit the model.That means model got over-fitting. In the given data there is no noise data or missing values.All the features given in the data set are not correlated with target variable.Principle component analysis gives better accuracy rate rather than feature comparison check.\n",
    "With the given features prediction data, we can suggest that building such system is cost effective only."
   ]
  },
  {
   "cell_type": "code",
   "execution_count": null,
   "metadata": {},
   "outputs": [],
   "source": []
  }
 ],
 "metadata": {
  "kernelspec": {
   "display_name": "Python 3",
   "language": "python",
   "name": "python3"
  },
  "language_info": {
   "codemirror_mode": {
    "name": "ipython",
    "version": 3
   },
   "file_extension": ".py",
   "mimetype": "text/x-python",
   "name": "python",
   "nbconvert_exporter": "python",
   "pygments_lexer": "ipython3",
   "version": "3.6.4"
  }
 },
 "nbformat": 4,
 "nbformat_minor": 2
}
